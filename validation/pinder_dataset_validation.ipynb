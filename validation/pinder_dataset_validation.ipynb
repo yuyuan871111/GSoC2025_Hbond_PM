{
 "cells": [
  {
   "cell_type": "code",
   "execution_count": 23,
   "id": "075d4193",
   "metadata": {},
   "outputs": [
    {
     "data": {
      "text/plain": [
       "PosixPath('/home/yuyang/.local/share/pinder/2024-02')"
      ]
     },
     "execution_count": 23,
     "metadata": {},
     "output_type": "execute_result"
    }
   ],
   "source": [
    "from pinder.core import get_pinder_location\n",
    "\n",
    "get_pinder_location()"
   ]
  },
  {
   "cell_type": "code",
   "execution_count": null,
   "id": "d5c6eb3e",
   "metadata": {},
   "outputs": [],
   "source": [
    "from pinder.core import get_index\n",
    "\n",
    "index = get_index()"
   ]
  },
  {
   "cell_type": "code",
   "execution_count": 25,
   "id": "b0ef872e",
   "metadata": {},
   "outputs": [],
   "source": [
    "val_set = index.query(\"split == 'val'\").reset_index(drop=True)\n",
    "test_set = index.query(\"split == 'test'\").reset_index(drop=True)"
   ]
  },
  {
   "cell_type": "code",
   "execution_count": 26,
   "id": "0dc829d3",
   "metadata": {},
   "outputs": [
    {
     "name": "stderr",
     "output_type": "stream",
     "text": [
      "/tmp/ipykernel_1266738/1595108085.py:1: FutureWarning: The default of observed=False is deprecated and will be changed to True in a future version of pandas. Pass observed=False to retain current behavior or observed=True to adopt the future default and silence this warning.\n",
      "  val_set.groupby(\"split\").count().id\n"
     ]
    },
    {
     "data": {
      "text/plain": [
       "split\n",
       "test          0\n",
       "val        1958\n",
       "train         0\n",
       "invalid       0\n",
       "Name: id, dtype: int64"
      ]
     },
     "execution_count": 26,
     "metadata": {},
     "output_type": "execute_result"
    }
   ],
   "source": [
    "val_set.groupby(\"split\").count().id"
   ]
  },
  {
   "cell_type": "code",
   "execution_count": 72,
   "id": "696a1ea9",
   "metadata": {},
   "outputs": [],
   "source": [
    "val_set[\n",
    "    [\n",
    "        \"split\",\n",
    "        \"id\",\n",
    "        \"pdb_id\",\n",
    "        \"cluster_id\",\n",
    "        \"cluster_id_R\",\n",
    "        \"cluster_id_L\",\n",
    "        \"uniprot_R\",\n",
    "        \"uniprot_L\",\n",
    "        \"holo_R_pdb\",\n",
    "        \"holo_L_pdb\",\n",
    "        \"chain_R\",\n",
    "        \"chain_L\",\n",
    "    ]\n",
    "].to_csv(\"./data/pinder_val_systems.csv\", index=False)"
   ]
  },
  {
   "cell_type": "code",
   "execution_count": 73,
   "id": "dd96a711",
   "metadata": {},
   "outputs": [],
   "source": [
    "test_set[\n",
    "    [\n",
    "        \"split\",\n",
    "        \"id\",\n",
    "        \"pdb_id\",\n",
    "        \"cluster_id\",\n",
    "        \"cluster_id_R\",\n",
    "        \"cluster_id_L\",\n",
    "        \"uniprot_R\",\n",
    "        \"uniprot_L\",\n",
    "        \"holo_R_pdb\",\n",
    "        \"holo_L_pdb\",\n",
    "        \"chain_R\",\n",
    "        \"chain_L\",\n",
    "    ]\n",
    "].to_csv(\"./data/pinder_test_systems.csv\", index=False)"
   ]
  },
  {
   "cell_type": "code",
   "execution_count": null,
   "id": "362a7c4b",
   "metadata": {},
   "outputs": [],
   "source": [
    "# Take about 10 mins\n",
    "\n",
    "# import dill\n",
    "# from pinder.core import get_systems\n",
    "\n",
    "# local_paths = {}\n",
    "# for system in get_systems(list(val_set.id)):\n",
    "#     local_paths[system.entry.id] = system.filepaths\n",
    "\n",
    "\n",
    "# with open(\"./data/pinder_val_local_paths.pkl\", \"wb\") as f:\n",
    "#     dill.dump(local_paths, f)"
   ]
  },
  {
   "cell_type": "code",
   "execution_count": null,
   "id": "9a0a20a8",
   "metadata": {},
   "outputs": [
    {
     "name": "stderr",
     "output_type": "stream",
     "text": [
      "100%|██████████| 1955/1955 [10:25<00:00,  3.12it/s] \n"
     ]
    }
   ],
   "source": [
    "# Take about 10 mins\n",
    "\n",
    "# import dill\n",
    "# from pinder.core import get_systems\n",
    "\n",
    "# local_paths = {}\n",
    "# for system in get_systems(list(test_set.id)):\n",
    "#     local_paths[system.entry.id] = system.filepaths\n",
    "\n",
    "\n",
    "# with open(\"./data/pinder_test_local_paths.pkl\", \"wb\") as f:\n",
    "#     dill.dump(local_paths, f)"
   ]
  },
  {
   "cell_type": "code",
   "execution_count": 37,
   "id": "cfd33247",
   "metadata": {},
   "outputs": [],
   "source": [
    "import dill\n",
    "\n",
    "with open(\"./data/pinder_val_local_paths.pkl\", \"rb\") as f:\n",
    "    val_local_paths = dill.load(f)\n",
    "\n",
    "with open(\"./data/pinder_test_local_paths.pkl\", \"rb\") as f:\n",
    "    test_local_paths = dill.load(f)"
   ]
  }
 ],
 "metadata": {
  "kernelspec": {
   "display_name": "gsoc2025-hbond-pm",
   "language": "python",
   "name": "python3"
  },
  "language_info": {
   "codemirror_mode": {
    "name": "ipython",
    "version": 3
   },
   "file_extension": ".py",
   "mimetype": "text/x-python",
   "name": "python",
   "nbconvert_exporter": "python",
   "pygments_lexer": "ipython3",
   "version": "3.11.11"
  }
 },
 "nbformat": 4,
 "nbformat_minor": 5
}
