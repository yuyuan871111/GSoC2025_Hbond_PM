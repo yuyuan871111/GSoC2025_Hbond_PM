{
 "cells": [
  {
   "cell_type": "markdown",
   "id": "d54720eb",
   "metadata": {},
   "source": [
    "# PLINDER validation/test set"
   ]
  },
  {
   "cell_type": "code",
   "execution_count": null,
   "id": "3180de5b",
   "metadata": {},
   "outputs": [],
   "source": [
    "import os\n",
    "\n",
    "import plinder.core.utils.config\n",
    "\n",
    "cfg = plinder.core.get_config()\n",
    "\n",
    "# print(f\"local cache directory: {cfg.data.plinder_dir}\")\n",
    "print(f\"remote data directory: {cfg.data.plinder_remote}\")  # noqa: T201"
   ]
  },
  {
   "cell_type": "markdown",
   "id": "fdd2be90",
   "metadata": {},
   "source": [
    "Use PLINDER package to access the index file.\n",
    "\n",
    "```python\n",
    "\n",
    "from plinder.core.scores import query_index\n",
    "\n",
    "# Get system_id, entry_pdb_id, and split columns of train and val splits\n",
    "df_index = query_index(\n",
    "    columns=[\n",
    "        \"system_id\",\n",
    "        \"entry_pdb_id\",\n",
    "        \"system_num_ligand_chains\",\n",
    "        \"system_num_protein_chains\",\n",
    "        \"ligand_instance_chain\",\n",
    "    ],\n",
    "    splits=[\"val\"],\n",
    "    # splits = [\"test\"],\n",
    ")\n",
    "```"
   ]
  },
  {
   "cell_type": "code",
   "execution_count": null,
   "id": "41064a69",
   "metadata": {},
   "outputs": [],
   "source": [
    "# Save the DataFrame to a CSV file\n",
    "# splits: val\n",
    "# df.to_csv(\"plinder_val_systems.csv\", index=False)\n",
    "\n",
    "# splits: test\n",
    "# df.to_csv(\"plinder_test_systems.csv\", index=False)"
   ]
  },
  {
   "cell_type": "code",
   "execution_count": null,
   "id": "b9bbf9c6",
   "metadata": {},
   "outputs": [],
   "source": [
    "import pandas as pd\n",
    "\n",
    "# Load index of test systems\n",
    "df_index = pd.read_csv(\"./data/plinder_test_systems.csv\")"
   ]
  },
  {
   "cell_type": "code",
   "execution_count": null,
   "id": "6835c789",
   "metadata": {},
   "outputs": [],
   "source": [
    "df_index.__len__()"
   ]
  },
  {
   "cell_type": "code",
   "execution_count": null,
   "id": "7240c0f0",
   "metadata": {},
   "outputs": [],
   "source": [
    "(df_index.system_id + \"@\" + df_index.ligand_instance_chain).nunique()"
   ]
  },
  {
   "cell_type": "markdown",
   "id": "1a00c879",
   "metadata": {},
   "source": [
    "# Protonation"
   ]
  },
  {
   "cell_type": "markdown",
   "id": "c7eeefae",
   "metadata": {},
   "source": [
    "* (run this in a script, not in a notebook)\n",
    "* (check `plinder_dataset_protonate.py`)\n",
    "\n",
    "```python\n",
    "import pandas as pd\n",
    "\n",
    "from tqdm import tqdm\n",
    "from protonate import plinder_system_protonate\n",
    "\n",
    "df = pd.read_csv(\n",
    "    \"./data/plinder_test_systems.csv\" # modify the file path here\n",
    "    )\n",
    "\n",
    "# each_system_id = df.iloc[0]['system_id']  # Example to access system_id\n",
    "for each_system_id in tqdm(df['system_id'].unique()):\n",
    "\n",
    "    # Protonate system for each system_id\n",
    "    plinder_system_protonate(plinder_system_id=each_system_id)\n",
    "    \n",
    "```"
   ]
  },
  {
   "cell_type": "markdown",
   "id": "0996373f",
   "metadata": {},
   "source": [
    "# HBond validation"
   ]
  },
  {
   "cell_type": "code",
   "execution_count": null,
   "id": "83de379c",
   "metadata": {},
   "outputs": [],
   "source": [
    "from prolif.io.protein_helper import ProteinHelper\n",
    "\n",
    "protein_helper = ProteinHelper(\n",
    "    [\n",
    "        {\n",
    "            \"MSE\": {\"SMILES\": \"C[Se]CC[CH](N)C=O\"},\n",
    "            \"SNN\": {\"SMILES\": \"O=CC(N)CC(=O)\"},\n",
    "            \"OAS\": {\"SMILES\": \"CC(=O)C[C@@H](C(=O)O)N\"},\n",
    "        }\n",
    "    ]\n",
    ")"
   ]
  },
  {
   "cell_type": "markdown",
   "id": "ec511525",
   "metadata": {},
   "source": [
    "## Batch analysis"
   ]
  },
  {
   "cell_type": "code",
   "execution_count": null,
   "id": "1d28d4fb",
   "metadata": {},
   "outputs": [],
   "source": [
    "import warnings\n",
    "\n",
    "import prolif as plf\n",
    "from tqdm import tqdm\n",
    "\n",
    "warnings.filterwarnings(\"ignore\")\n",
    "\n",
    "\n",
    "dfs = []\n",
    "fps = []\n",
    "dfs_i = []\n",
    "fps_i = []\n",
    "\n",
    "\n",
    "for idx in tqdm(df_index.index):\n",
    "    # Load explicit fingerprint\n",
    "    if not os.path.exists(f\"./test/explicit/fp_{idx}.pkl\"):  # noqa: PTH110\n",
    "        print(f\"Explicit fingerprint for index {idx} not found, skipping.\")  # noqa: T201\n",
    "        continue\n",
    "    if not os.path.exists(f\"./test/implicit/fp_{idx}.pkl\"):  # noqa: PTH110\n",
    "        print(f\"Implicit fingerprint for index {idx} not found, skipping.\")  # noqa: T201\n",
    "        continue\n",
    "    fp = plf.Fingerprint.from_pickle(f\"./test/explicit/fp_{idx}.pkl\")\n",
    "    df = fp.to_dataframe().T\n",
    "    dfs.append(df)\n",
    "    fps.append(fp)\n",
    "\n",
    "    # Load implicit fingerprint\n",
    "    fp = plf.Fingerprint.from_pickle(f\"./test/implicit/fp_{idx}.pkl\")\n",
    "    df = fp.to_dataframe().T\n",
    "    dfs_i.append(df)\n",
    "    fps_i.append(fp)\n",
    "\n",
    "    if idx == 2000:\n",
    "        break"
   ]
  },
  {
   "cell_type": "code",
   "execution_count": null,
   "id": "5ea7c4c1",
   "metadata": {},
   "outputs": [],
   "source": [
    "len(dfs)"
   ]
  },
  {
   "cell_type": "code",
   "execution_count": null,
   "id": "862c6555",
   "metadata": {},
   "outputs": [],
   "source": [
    "import numpy as np\n",
    "from utils.metrics import get_interactions, tanimoto_coefficient\n",
    "from utils.postprocess import get_metadata_from_implicit_hbond_using_set\n",
    "\n",
    "# idx = 5\n",
    "all_aaa_dev_list = []\n",
    "all_daa_dev_list = []\n",
    "all_dpa_list = []\n",
    "all_apa_list = []\n",
    "all_vhp_list = []\n",
    "\n",
    "all_fp_aaa_dev_list = []\n",
    "all_fp_daa_dev_list = []\n",
    "all_fp_dpa_list = []\n",
    "all_fp_apa_list = []\n",
    "all_fp_avp_list = []\n",
    "all_fp_vhp_list = []\n",
    "\n",
    "\n",
    "tm_coefs = []\n",
    "\n",
    "for idx in range(len(dfs_i)):\n",
    "    # Get the explicit interaction's implicit metadata\n",
    "    explicit_set = get_interactions(dfs[idx])\n",
    "\n",
    "    aaa_dev_list, daa_dev_list, dpa_list, apa_list, vina_hbond_potential_list = (\n",
    "        get_metadata_from_implicit_hbond_using_set(explicit_set, fps_i[idx])\n",
    "    )\n",
    "    all_aaa_dev_list.extend(aaa_dev_list)\n",
    "    all_daa_dev_list.extend(daa_dev_list)\n",
    "    all_dpa_list.extend(dpa_list)\n",
    "    all_apa_list.extend(apa_list)\n",
    "    all_vhp_list.extend(vina_hbond_potential_list)\n",
    "\n",
    "    # Get the false positive interaction's implicit metadata\n",
    "    implicit_set = get_interactions(dfs_i[idx])\n",
    "    false_positive_set = implicit_set - explicit_set\n",
    "    fp_aaa_dev_list, fp_daa_dev_list, fp_dpa_list, fp_apa_list, fp_vhp_list = (\n",
    "        get_metadata_from_implicit_hbond_using_set(false_positive_set, fps_i[idx])\n",
    "    )\n",
    "    all_fp_aaa_dev_list.extend(fp_aaa_dev_list)\n",
    "    all_fp_daa_dev_list.extend(fp_daa_dev_list)\n",
    "    all_fp_dpa_list.extend(fp_dpa_list)\n",
    "    all_fp_apa_list.extend(fp_apa_list)\n",
    "    all_fp_vhp_list.extend(fp_vhp_list)\n",
    "\n",
    "    # Calculate Tanimoto coefficient\n",
    "    tm_coef = tanimoto_coefficient(explicit_set, implicit_set)\n",
    "    tm_coefs.append(tm_coef)\n",
    "\n",
    "print(\"Tanimoto coefficients:\", np.mean(tm_coefs))  # noqa: T201"
   ]
  },
  {
   "cell_type": "code",
   "execution_count": null,
   "id": "c3b4f8b5",
   "metadata": {},
   "outputs": [],
   "source": [
    "# dfs[1], dfs_i[1]"
   ]
  },
  {
   "cell_type": "code",
   "execution_count": null,
   "id": "90871f99",
   "metadata": {},
   "outputs": [],
   "source": [
    "import matplotlib.pyplot as plt\n",
    "import numpy as np\n",
    "from mpl_toolkits.axes_grid1 import make_axes_locatable\n",
    "\n",
    "fig, ax = plt.subplots(dpi=300, figsize=(8, 6))\n",
    "ax.scatter(all_aaa_dev_list, all_daa_dev_list, s=10, alpha=0.5, c=\"blue\")\n",
    "ax.scatter(all_fp_aaa_dev_list, all_fp_daa_dev_list, s=10, alpha=0.5, c=\"red\")\n",
    "\n",
    "\n",
    "# the scatter plot:\n",
    "# Set aspect of the main Axes.\n",
    "ax.set_aspect(1.0)\n",
    "\n",
    "# create new Axes on the right and on the top of the current Axes\n",
    "divider = make_axes_locatable(ax)\n",
    "# below height and pad are in inches\n",
    "ax_histx = divider.append_axes(\"top\", 0.8, pad=0.1, sharex=ax)\n",
    "ax_histy = divider.append_axes(\"right\", 0.8, pad=0.1, sharey=ax)\n",
    "\n",
    "# make some labels invisible\n",
    "ax_histx.xaxis.set_tick_params(labelbottom=False)\n",
    "ax_histy.yaxis.set_tick_params(labelleft=False)\n",
    "\n",
    "# now determine nice limits by hand:\n",
    "binwidth = 1\n",
    "xymax = max(np.max(np.abs(all_aaa_dev_list)), np.max(np.abs(all_daa_dev_list)))\n",
    "lim = (int(xymax / binwidth) + 1) * binwidth\n",
    "\n",
    "bins = np.arange(0, lim + binwidth, binwidth)\n",
    "ax_histx.hist(all_aaa_dev_list, bins=bins, histtype=\"step\")\n",
    "ax_histx.hist(all_fp_aaa_dev_list, bins=bins, histtype=\"step\", color=\"red\")\n",
    "ax_histy.hist(all_daa_dev_list, bins=bins, histtype=\"step\", orientation=\"horizontal\")\n",
    "ax_histy.hist(\n",
    "    all_fp_daa_dev_list,\n",
    "    bins=bins,\n",
    "    orientation=\"horizontal\",\n",
    "    histtype=\"step\",\n",
    "    color=\"red\",\n",
    ")\n",
    "\n",
    "# the xaxis of ax_histx and yaxis of ax_histy are shared with ax,\n",
    "# thus there is no need to manually adjust the xlim and ylim of these\n",
    "# axis.\n",
    "\n",
    "# ax_histx.set_yticks([0, 50, 100])\n",
    "# ax_histy.set_xticks([0, 50, 100])\n",
    "\n",
    "ax.set_xlabel(\"Acceptor Atom Angle Deviation (degrees)\")\n",
    "ax.set_ylabel(\"Donor Atom Angle Deviation (degrees)\")\n",
    "ax.legend(\n",
    "    [\"Ground Truth (explicit)\", \"False Positive (from implicit)\"],\n",
    "    loc=\"upper right\",\n",
    "    fontsize=6,\n",
    ")\n",
    "fig.show()"
   ]
  },
  {
   "cell_type": "code",
   "execution_count": null,
   "id": "dfa4a3b2",
   "metadata": {},
   "outputs": [],
   "source": [
    "import matplotlib.pyplot as plt\n",
    "import numpy as np\n",
    "from mpl_toolkits.axes_grid1 import make_axes_locatable\n",
    "\n",
    "fig, ax = plt.subplots(2, 1, dpi=300, figsize=(8, 6))\n",
    "\n",
    "# now determine nice limits by hand:\n",
    "binwidth = 1\n",
    "xymax = max(\n",
    "    np.max(np.abs(all_apa_list)),\n",
    "    np.max(np.abs(all_dpa_list)),\n",
    "    np.max(np.abs(all_fp_apa_list)),\n",
    "    np.max(np.abs(all_fp_dpa_list)),\n",
    ")\n",
    "lim = (int(xymax / binwidth) + 1) * binwidth\n",
    "\n",
    "bins = np.arange(0, lim + binwidth, binwidth)\n",
    "ax[0].hist(all_apa_list, bins=bins)\n",
    "ax[0].hist(all_fp_apa_list, bins=bins, alpha=0.5, color=\"red\")\n",
    "ax[1].hist(all_dpa_list, bins=bins)\n",
    "ax[1].hist(all_fp_dpa_list, bins=bins, alpha=0.5, color=\"red\")\n",
    "\n",
    "ax[0].set_xlabel(\"Acceptor Plane Angles (degrees)\")\n",
    "ax[1].set_xlabel(\"Donor Plane Angles (degrees)\")\n",
    "fig.tight_layout()\n",
    "fig.show()"
   ]
  },
  {
   "cell_type": "code",
   "execution_count": null,
   "id": "bd21193a",
   "metadata": {},
   "outputs": [],
   "source": [
    "import matplotlib.pyplot as plt\n",
    "import numpy as np\n",
    "from mpl_toolkits.axes_grid1 import make_axes_locatable\n",
    "\n",
    "fig, ax = plt.subplots(1, 1, dpi=300, figsize=(8, 6))\n",
    "\n",
    "# now determine nice limits by hand:\n",
    "binwidth = 0.05\n",
    "xymax = max(\n",
    "    np.max(np.abs(all_vhp_list)),\n",
    "    np.max(np.abs(all_fp_vhp_list)),\n",
    ")\n",
    "lim = (int(xymax / binwidth) + 1) * binwidth\n",
    "\n",
    "bins = np.arange(0, lim + binwidth, binwidth)\n",
    "ax.hist(all_vhp_list, bins=bins)\n",
    "ax.hist(all_fp_vhp_list, bins=bins, alpha=0.5, color=\"red\")\n",
    "\n",
    "ax.set_xlabel(\"Autodock Vina potential (-)\")\n",
    "fig.tight_layout()\n",
    "fig.show()"
   ]
  },
  {
   "cell_type": "code",
   "execution_count": null,
   "id": "95eeff4c",
   "metadata": {},
   "outputs": [],
   "source": []
  }
 ],
 "metadata": {
  "kernelspec": {
   "display_name": "gsoc2025-hbond-pm",
   "language": "python",
   "name": "python3"
  },
  "language_info": {
   "codemirror_mode": {
    "name": "ipython",
    "version": 3
   },
   "file_extension": ".py",
   "mimetype": "text/x-python",
   "name": "python",
   "nbconvert_exporter": "python",
   "pygments_lexer": "ipython3",
   "version": "3.11.11"
  }
 },
 "nbformat": 4,
 "nbformat_minor": 5
}
